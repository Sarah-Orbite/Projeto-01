{
 "cells": [
  {
   "cell_type": "markdown",
   "id": "3Xg_RQfnafXz",
   "metadata": {
    "id": "3Xg_RQfnafXz"
   },
   "source": [
    "\n",
    "\n",
    "\n",
    "# Vamos encher o carrinho!"
   ]
  },
  {
   "cell_type": "markdown",
   "id": "n3Ha_cNSZ8lK",
   "metadata": {
    "id": "n3Ha_cNSZ8lK"
   },
   "source": [
    "# Etapa 1. Visão geral dos dados\n",
    "\n",
    "Leia os arquivos de dados (/datasets/instacart_orders.csv, /datasets/products.csv, /datasets/aisles.csv, /datasets/departments.csv e /datasets/order_products.csv) com `pd.read_csv()` usando os parâmetros apropriados para fazer isso corretamente. Verifique as informações para cada DataFrame criado.\n"
   ]
  },
  {
   "cell_type": "markdown",
   "id": "OmlQPLlyaAfR",
   "metadata": {
    "id": "OmlQPLlyaAfR"
   },
   "source": [
    "## Plano de solução\n"
   ]
  },
  {
   "cell_type": "code",
   "execution_count": 3,
   "id": "fbf1adab",
   "metadata": {
    "id": "fbf1adab"
   },
   "outputs": [],
   "source": [
    "import pandas as pd"
   ]
  },
  {
   "cell_type": "code",
   "execution_count": 4,
   "id": "ad36396d",
   "metadata": {
    "id": "ad36396d"
   },
   "outputs": [],
   "source": [
    "orders_df = pd.read_csv('/datasets/instacart_orders.csv', sep=';')\n",
    "products_df = pd.read_csv('/datasets/products.csv', sep=';')\n",
    "order_products_df = pd.read_csv('/datasets/order_products.csv', sep=';')\n",
    "aisles_df = pd.read_csv('/datasets/aisles.csv', sep=';')\n",
    "departments_df = pd.read_csv('/datasets/departments.csv', sep=';')"
   ]
  },
  {
   "cell_type": "code",
   "execution_count": 5,
   "id": "ad6a1efa",
   "metadata": {
    "id": "ad6a1efa"
   },
   "outputs": [
    {
     "name": "stdout",
     "output_type": "stream",
     "text": [
      "<class 'pandas.core.frame.DataFrame'>\n",
      "RangeIndex: 478967 entries, 0 to 478966\n",
      "Data columns (total 6 columns):\n",
      " #   Column                  Non-Null Count   Dtype  \n",
      "---  ------                  --------------   -----  \n",
      " 0   order_id                478967 non-null  int64  \n",
      " 1   user_id                 478967 non-null  int64  \n",
      " 2   order_number            478967 non-null  int64  \n",
      " 3   order_dow               478967 non-null  int64  \n",
      " 4   order_hour_of_day       478967 non-null  int64  \n",
      " 5   days_since_prior_order  450148 non-null  float64\n",
      "dtypes: float64(1), int64(5)\n",
      "memory usage: 21.9 MB\n",
      "None\n"
     ]
    }
   ],
   "source": [
    "print(orders_df.info())"
   ]
  },
  {
   "cell_type": "code",
   "execution_count": 6,
   "id": "5130e05e",
   "metadata": {
    "id": "5130e05e"
   },
   "outputs": [
    {
     "name": "stdout",
     "output_type": "stream",
     "text": [
      "<class 'pandas.core.frame.DataFrame'>\n",
      "RangeIndex: 49694 entries, 0 to 49693\n",
      "Data columns (total 4 columns):\n",
      " #   Column         Non-Null Count  Dtype \n",
      "---  ------         --------------  ----- \n",
      " 0   product_id     49694 non-null  int64 \n",
      " 1   product_name   48436 non-null  object\n",
      " 2   aisle_id       49694 non-null  int64 \n",
      " 3   department_id  49694 non-null  int64 \n",
      "dtypes: int64(3), object(1)\n",
      "memory usage: 1.5+ MB\n",
      "None\n"
     ]
    }
   ],
   "source": [
    "print(products_df.info())"
   ]
  },
  {
   "cell_type": "code",
   "execution_count": 7,
   "id": "d8370c05",
   "metadata": {
    "id": "d8370c05"
   },
   "outputs": [
    {
     "name": "stdout",
     "output_type": "stream",
     "text": [
      "<class 'pandas.core.frame.DataFrame'>\n",
      "RangeIndex: 4545007 entries, 0 to 4545006\n",
      "Data columns (total 4 columns):\n",
      " #   Column             Dtype  \n",
      "---  ------             -----  \n",
      " 0   order_id           int64  \n",
      " 1   product_id         int64  \n",
      " 2   add_to_cart_order  float64\n",
      " 3   reordered          int64  \n",
      "dtypes: float64(1), int64(3)\n",
      "memory usage: 138.7 MB\n",
      "None\n"
     ]
    }
   ],
   "source": [
    "print(order_products_df.info())"
   ]
  },
  {
   "cell_type": "code",
   "execution_count": 8,
   "id": "59e2090f",
   "metadata": {
    "id": "59e2090f"
   },
   "outputs": [
    {
     "name": "stdout",
     "output_type": "stream",
     "text": [
      "<class 'pandas.core.frame.DataFrame'>\n",
      "RangeIndex: 134 entries, 0 to 133\n",
      "Data columns (total 2 columns):\n",
      " #   Column    Non-Null Count  Dtype \n",
      "---  ------    --------------  ----- \n",
      " 0   aisle_id  134 non-null    int64 \n",
      " 1   aisle     134 non-null    object\n",
      "dtypes: int64(1), object(1)\n",
      "memory usage: 2.2+ KB\n",
      "None\n"
     ]
    }
   ],
   "source": [
    "print(aisles_df.info())"
   ]
  },
  {
   "cell_type": "code",
   "execution_count": 9,
   "id": "6fc81694",
   "metadata": {
    "id": "6fc81694"
   },
   "outputs": [
    {
     "name": "stdout",
     "output_type": "stream",
     "text": [
      "<class 'pandas.core.frame.DataFrame'>\n",
      "RangeIndex: 21 entries, 0 to 20\n",
      "Data columns (total 2 columns):\n",
      " #   Column         Non-Null Count  Dtype \n",
      "---  ------         --------------  ----- \n",
      " 0   department_id  21 non-null     int64 \n",
      " 1   department     21 non-null     object\n",
      "dtypes: int64(1), object(1)\n",
      "memory usage: 464.0+ bytes\n",
      "None\n"
     ]
    }
   ],
   "source": [
    "print(departments_df.info())"
   ]
  },
  {
   "cell_type": "markdown",
   "id": "8RJHqxVmaVsF",
   "metadata": {
    "id": "8RJHqxVmaVsF"
   },
   "source": [
    "# Etapa 2. Preparação de dados\n",
    "\n"
   ]
  },
  {
   "cell_type": "markdown",
   "id": "p6poABZQaZYb",
   "metadata": {
    "id": "p6poABZQaZYb"
   },
   "source": [
    "## Plano de solução\n",
    "\n"
   ]
  },
  {
   "cell_type": "markdown",
   "id": "f179f0a9",
   "metadata": {
    "id": "f179f0a9"
   },
   "source": [
    "### DataFrame `instacart_orders`"
   ]
  },
  {
   "cell_type": "code",
   "execution_count": 10,
   "id": "b99297a5-405a-463d-8535-9adc3da4ad74",
   "metadata": {
    "id": "b99297a5-405a-463d-8535-9adc3da4ad74"
   },
   "outputs": [
    {
     "name": "stdout",
     "output_type": "stream",
     "text": [
      "Número de linhas duplicadas: 15\n",
      "\n",
      "Linhas duplicadas:\n",
      "        order_id  user_id  order_number  order_dow  order_hour_of_day  \\\n",
      "145574    794638    50898            24          3                  2   \n",
      "223105   2160484   107525            16          3                  2   \n",
      "230807   1918001   188546            14          3                  2   \n",
      "266232   1782114   106752             1          3                  2   \n",
      "273805   1112182   202304            84          3                  2   \n",
      "284038   2845099    31189            11          3                  2   \n",
      "311713   1021560    53767             3          3                  2   \n",
      "321100    408114    68324             4          3                  2   \n",
      "323900   1919531   191501            32          3                  2   \n",
      "345917   2232988    82565             1          3                  2   \n",
      "371905    391768    57671            19          3                  2   \n",
      "394347    467134    63189            21          3                  2   \n",
      "411408   1286742   183220            48          3                  2   \n",
      "415163   2282673    86751            49          3                  2   \n",
      "441599   2125197    14050            48          3                  2   \n",
      "\n",
      "        days_since_prior_order  \n",
      "145574                     2.0  \n",
      "223105                    30.0  \n",
      "230807                    16.0  \n",
      "266232                     NaN  \n",
      "273805                     6.0  \n",
      "284038                     7.0  \n",
      "311713                     9.0  \n",
      "321100                    18.0  \n",
      "323900                     7.0  \n",
      "345917                     NaN  \n",
      "371905                    10.0  \n",
      "394347                     2.0  \n",
      "411408                     4.0  \n",
      "415163                     2.0  \n",
      "441599                     3.0  \n"
     ]
    }
   ],
   "source": [
    "# Identificar linhas duplicadas\n",
    "duplicated_rows = orders_df[orders_df.duplicated()]\n",
    "\n",
    "# Exibir o número de linhas duplicadas\n",
    "print(\"Número de linhas duplicadas:\", len(duplicated_rows))\n",
    "\n",
    "# Exibir as linhas duplicadas\n",
    "print(\"\\nLinhas duplicadas:\")\n",
    "print(duplicated_rows)"
   ]
  },
  {
   "cell_type": "markdown",
   "id": "PEkwUX_gvt5A",
   "metadata": {
    "id": "PEkwUX_gvt5A"
   },
   "source": [
    "\n",
    "\n",
    "Há linhas duplicadas. O padrão de duplicidade aparece em Horário do Pedido e Dia da Semana.\n",
    "As linhas duplicadas são iguais para order_hour_of_day, que é 2. Isso indica que todos esses pedidos foram feitos às 2h da manhã.\n",
    "As linhas duplicadas são iguais para order_dow, que é 3. Isso significa que todos esses pedidos foram feitos na quarta-feira.\n",
    "\n",
    "A remoção dessas duplicatas é importante para evitar distorções na análise."
   ]
  },
  {
   "cell_type": "code",
   "execution_count": 21,
   "id": "0d44de5d",
   "metadata": {
    "id": "0d44de5d"
   },
   "outputs": [
    {
     "name": "stdout",
     "output_type": "stream",
     "text": [
      "Total de pedidos às 2h nas quartas: 121\n",
      "\n",
      "Duplicatas neste horário:\n",
      "        order_id  user_id  order_number  order_dow  order_hour_of_day  \\\n",
      "30371    1918001   188546            14          3                  2   \n",
      "99462     794638    50898            24          3                  2   \n",
      "119251    408114    68324             4          3                  2   \n",
      "142258   2845099    31189            11          3                  2   \n",
      "145574    794638    50898            24          3                  2   \n",
      "164581   1112182   202304            84          3                  2   \n",
      "200059   1782114   106752             1          3                  2   \n",
      "204042   2125197    14050            48          3                  2   \n",
      "215294   2160484   107525            16          3                  2   \n",
      "223105   2160484   107525            16          3                  2   \n",
      "230807   1918001   188546            14          3                  2   \n",
      "242618   1021560    53767             3          3                  2   \n",
      "250626    467134    63189            21          3                  2   \n",
      "257934   1919531   191501            32          3                  2   \n",
      "259636   2282673    86751            49          3                  2   \n",
      "266232   1782114   106752             1          3                  2   \n",
      "273805   1112182   202304            84          3                  2   \n",
      "284038   2845099    31189            11          3                  2   \n",
      "311713   1021560    53767             3          3                  2   \n",
      "314427   1286742   183220            48          3                  2   \n",
      "321100    408114    68324             4          3                  2   \n",
      "323900   1919531   191501            32          3                  2   \n",
      "324868   2232988    82565             1          3                  2   \n",
      "345917   2232988    82565             1          3                  2   \n",
      "354993    391768    57671            19          3                  2   \n",
      "371905    391768    57671            19          3                  2   \n",
      "394347    467134    63189            21          3                  2   \n",
      "411408   1286742   183220            48          3                  2   \n",
      "415163   2282673    86751            49          3                  2   \n",
      "441599   2125197    14050            48          3                  2   \n",
      "\n",
      "        days_since_prior_order  \n",
      "30371                     16.0  \n",
      "99462                      2.0  \n",
      "119251                    18.0  \n",
      "142258                     7.0  \n",
      "145574                     2.0  \n",
      "164581                     6.0  \n",
      "200059                     NaN  \n",
      "204042                     3.0  \n",
      "215294                    30.0  \n",
      "223105                    30.0  \n",
      "230807                    16.0  \n",
      "242618                     9.0  \n",
      "250626                     2.0  \n",
      "257934                     7.0  \n",
      "259636                     2.0  \n",
      "266232                     NaN  \n",
      "273805                     6.0  \n",
      "284038                     7.0  \n",
      "311713                     9.0  \n",
      "314427                     4.0  \n",
      "321100                    18.0  \n",
      "323900                     7.0  \n",
      "324868                     NaN  \n",
      "345917                     NaN  \n",
      "354993                    10.0  \n",
      "371905                    10.0  \n",
      "394347                     2.0  \n",
      "411408                     4.0  \n",
      "415163                     2.0  \n",
      "441599                     3.0  \n"
     ]
    }
   ],
   "source": [
    "# Com base nas suas conclusões,\n",
    "\n",
    "# verifique todos os pedidos feitos às 2h da manhã nas quartas-feiras\n",
    "\n",
    "# Filtro de pedidos feitos as 2h da qurta-feira.\n",
    "wednesday_2am = orders_df[(orders_df['order_hour_of_day'] == 2) & (orders_df['order_dow'] == 3)]\n",
    "\n",
    "# Contando os pedidos\n",
    "print(\"Total de pedidos às 2h nas quartas:\", len(wednesday_2am))\n",
    "\n",
    "# Identificando todas as linhas com duplicatas \n",
    "duplicated_wednesday_2am = wednesday_2am[wednesday_2am.duplicated(keep=False)]\n",
    "\n",
    "# Imprimindo as duplicatas \n",
    "print(\"\\nDuplicatas neste horário:\")\n",
    "print(duplicated_wednesday_2am)"
   ]
  },
  {
   "cell_type": "markdown",
   "id": "vu2OWyoqwOx5",
   "metadata": {
    "id": "vu2OWyoqwOx5"
   },
   "source": [
    "O que esse resultado quer dizer?\n",
    "\n",
    "Havia um número significativo de duplicatas para pedidos feitos às 2h nas quartas-feiras. Isso pode ser um bug no sistema de pedidos ou um comportamento repetitivo dos usuários."
   ]
  },
  {
   "cell_type": "code",
   "execution_count": 18,
   "id": "480563c7",
   "metadata": {
    "id": "480563c7"
   },
   "outputs": [],
   "source": [
    "orders_df_clean = orders_df.drop_duplicates()"
   ]
  },
  {
   "cell_type": "code",
   "execution_count": 19,
   "id": "0b2396a2",
   "metadata": {
    "id": "0b2396a2"
   },
   "outputs": [
    {
     "name": "stdout",
     "output_type": "stream",
     "text": [
      "\n",
      "Número de linhas antes da remoção: 478967\n",
      "Número de linhas após a remoção: 478952\n"
     ]
    }
   ],
   "source": [
    "print(\"\\nNúmero de linhas antes da remoção:\", len(orders_df))\n",
    "print(\"Número de linhas após a remoção:\", len(orders_df_clean))"
   ]
  },
  {
   "cell_type": "code",
   "execution_count": 20,
   "id": "f6113ef1",
   "metadata": {
    "id": "f6113ef1"
   },
   "outputs": [
    {
     "name": "stdout",
     "output_type": "stream",
     "text": [
      "\n",
      "Duplicatas de order_id restantes: 0\n"
     ]
    }
   ],
   "source": [
    "duplicate_order_ids = orders_df_clean['order_id'].duplicated().sum()\n",
    "print(\"\\nDuplicatas de order_id restantes:\", duplicate_order_ids)"
   ]
  },
  {
   "cell_type": "markdown",
   "id": "5e8905ae",
   "metadata": {
    "id": "5e8905ae"
   },
   "source": [
    "\n",
    "\n",
    "\n",
    "Após a verificação de duplicatas foi constatado que existia um número significativo de valores repetidos, então a remoção reduziu as linhas removendo os valores duplicados e limpando os dados. Isso garante uma análise mais precisa e ajuda a evitar possíveis distorções.\n"
   ]
  },
  {
   "cell_type": "markdown",
   "id": "45e6bc46",
   "metadata": {
    "id": "45e6bc46"
   },
   "source": [
    "### DataFrame `products`"
   ]
  },
  {
   "cell_type": "code",
   "execution_count": 22,
   "id": "5f526b5b-8175-46fa-a0fd-441767d50e64",
   "metadata": {
    "id": "5f526b5b-8175-46fa-a0fd-441767d50e64"
   },
   "outputs": [
    {
     "name": "stdout",
     "output_type": "stream",
     "text": [
      "Número de linhas completamente duplicadas: 0\n"
     ]
    }
   ],
   "source": [
    "# Verifique se há linhas completamente duplicadas\n",
    "\n",
    "complete_duplicates = products_df[products_df.duplicated()]\n",
    "print(\"Número de linhas completamente duplicadas:\", len(complete_duplicates))"
   ]
  },
  {
   "cell_type": "code",
   "execution_count": 23,
   "id": "88daa4f4",
   "metadata": {
    "id": "88daa4f4"
   },
   "outputs": [
    {
     "name": "stdout",
     "output_type": "stream",
     "text": [
      "\n",
      "Número de IDs de produtos duplicados: 0\n"
     ]
    }
   ],
   "source": [
    "# Verifique apenas IDs dos produtos duplicados\n",
    "\n",
    "duplicate_product_ids = products_df['product_id'].duplicated().sum()\n",
    "print(\"\\nNúmero de IDs de produtos duplicados:\", duplicate_product_ids)"
   ]
  },
  {
   "cell_type": "code",
   "execution_count": 24,
   "id": "c773f0bf",
   "metadata": {
    "id": "c773f0bf"
   },
   "outputs": [
    {
     "name": "stdout",
     "output_type": "stream",
     "text": [
      "\n",
      "Número de nomes de produtos duplicados (em minúsculas): 1361\n"
     ]
    }
   ],
   "source": [
    "# Verifique apenas nomes de produtos duplicados (converta os nomes para minúsculas para uma comparação melhor)\n",
    "\n",
    "products_df['product_name_lower'] = products_df['product_name'].str.lower()\n",
    "duplicate_product_names = products_df['product_name_lower'].duplicated().sum()\n",
    "print(\"\\nNúmero de nomes de produtos duplicados (em minúsculas):\", duplicate_product_names)"
   ]
  },
  {
   "cell_type": "code",
   "execution_count": 25,
   "id": "01efd02e",
   "metadata": {
    "id": "01efd02e"
   },
   "outputs": [
    {
     "name": "stdout",
     "output_type": "stream",
     "text": [
      "\n",
      "Número de nomes de produtos duplicados que não estão faltando: 104\n"
     ]
    }
   ],
   "source": [
    "# Verifique os nomes de produtos duplicados que não estão faltando\n",
    "\n",
    "non_missing_names = products_df.dropna(subset=['product_name'])\n",
    "duplicate_non_missing_names = non_missing_names['product_name_lower'].duplicated().sum()\n",
    "print(\"\\nNúmero de nomes de produtos duplicados que não estão faltando:\", duplicate_non_missing_names)"
   ]
  },
  {
   "cell_type": "markdown",
   "id": "9da8d293",
   "metadata": {
    "id": "9da8d293"
   },
   "source": [
    "\n",
    "\n",
    "De acordo com o resultado da análise é possível identificar que existe falta de padronização nos dados, isso ode tornar os dados inconsistentes.\n",
    "O resultado de 1.361 nomes de produtos duplicados, que diferem apenas em maiúsculas/minúsculas,mostra que será necessário padronizar os nomes dos produtos para garantir a consistência. Além disso, os 104 nomes de produtos duplicados que não estão faltando podem indicar produtos diferentes, nesse sentido, é necessário verificar para evitar distorções.\n"
   ]
  },
  {
   "cell_type": "markdown",
   "id": "60f30db1",
   "metadata": {
    "id": "60f30db1"
   },
   "source": [
    "### DataFrame `departments`\n"
   ]
  },
  {
   "cell_type": "code",
   "execution_count": 26,
   "id": "fb410ad4-0fbf-4b80-bb09-23fdea79afe3",
   "metadata": {
    "id": "fb410ad4-0fbf-4b80-bb09-23fdea79afe3"
   },
   "outputs": [
    {
     "name": "stdout",
     "output_type": "stream",
     "text": [
      "Número de linhas completamente duplicadas: 0\n"
     ]
    }
   ],
   "source": [
    "# Verifique se há linhas completamente duplicadas\n",
    "\n",
    "complete_duplicates = departments_df[departments_df.duplicated()]\n",
    "print(\"Número de linhas completamente duplicadas:\", len(complete_duplicates))"
   ]
  },
  {
   "cell_type": "code",
   "execution_count": 29,
   "id": "332b12bb",
   "metadata": {
    "id": "332b12bb"
   },
   "outputs": [
    {
     "name": "stdout",
     "output_type": "stream",
     "text": [
      "\n",
      "Número de IDs de departamentos duplicados: 0\n"
     ]
    }
   ],
   "source": [
    "# Verifique apenas se há IDs dos produtos duplicados\n",
    "\n",
    "duplicate_department_ids = departments_df['department_id'].duplicated().sum()\n",
    "print(\"\\nNúmero de IDs de departamentos duplicados:\", duplicate_department_ids)"
   ]
  },
  {
   "cell_type": "markdown",
   "id": "bd30d78e",
   "metadata": {
    "id": "bd30d78e"
   },
   "source": [
    "\n",
    "\n",
    "Como não foram encontradas duplicatas, não é necessário realizar nenhuma correção nos dados.\n",
    "Isso significa que cada linha é única e que cada department_id identifica exclusivamente um departamento."
   ]
  },
  {
   "cell_type": "markdown",
   "id": "889349c1",
   "metadata": {
    "id": "889349c1"
   },
   "source": [
    "### DataFrame `aisles`"
   ]
  },
  {
   "cell_type": "code",
   "execution_count": 30,
   "id": "9da89fb9-4679-40f5-ad0d-c34df753a3f8",
   "metadata": {
    "id": "9da89fb9-4679-40f5-ad0d-c34df753a3f8"
   },
   "outputs": [
    {
     "name": "stdout",
     "output_type": "stream",
     "text": [
      "Número de linhas completamente duplicadas: 0\n"
     ]
    }
   ],
   "source": [
    "# Verifique se há linhas completamente duplicadas\n",
    "\n",
    "complete_duplicates = aisles_df[aisles_df.duplicated()]\n",
    "print(\"Número de linhas completamente duplicadas:\", len(complete_duplicates))"
   ]
  },
  {
   "cell_type": "code",
   "execution_count": 31,
   "id": "da7c2822",
   "metadata": {
    "id": "da7c2822"
   },
   "outputs": [
    {
     "name": "stdout",
     "output_type": "stream",
     "text": [
      "\n",
      "Número de IDs de corredores duplicados: 0\n"
     ]
    }
   ],
   "source": [
    "# Verifique apenas se há IDs dos produtos duplicados\n",
    "\n",
    "duplicate_aisle_ids = aisles_df['aisle_id'].duplicated().sum()\n",
    "print(\"\\nNúmero de IDs de corredores duplicados:\", duplicate_aisle_ids)"
   ]
  },
  {
   "cell_type": "markdown",
   "id": "ac63826f",
   "metadata": {
    "id": "ac63826f"
   },
   "source": [
    "\n",
    "\n",
    "Como não foram encontradas duplicatas, não é necessário realizar nenhuma correção nos dados.\n",
    "significa que cada linha é única e que cada aisle_id identifica exclusivamente um corredor"
   ]
  },
  {
   "cell_type": "markdown",
   "id": "274cd06a",
   "metadata": {
    "id": "274cd06a"
   },
   "source": [
    "### DataFrame `order_products`"
   ]
  },
  {
   "cell_type": "code",
   "execution_count": 32,
   "id": "52326689-84a8-4b8f-a881-7c68780f62c9",
   "metadata": {
    "id": "52326689-84a8-4b8f-a881-7c68780f62c9"
   },
   "outputs": [
    {
     "name": "stdout",
     "output_type": "stream",
     "text": [
      "Número de linhas completamente duplicadas: 0\n"
     ]
    }
   ],
   "source": [
    "# Verifique se há linhas completamente duplicadas\n",
    "\n",
    "complete_duplicates = order_products_df[order_products_df.duplicated()]\n",
    "print(\"Número de linhas completamente duplicadas:\", len(complete_duplicates))"
   ]
  },
  {
   "cell_type": "code",
   "execution_count": 33,
   "id": "7b861391",
   "metadata": {
    "id": "7b861391"
   },
   "outputs": [
    {
     "name": "stdout",
     "output_type": "stream",
     "text": [
      "\n",
      "Número de combinações duplicadas de order_id e product_id: 0\n"
     ]
    }
   ],
   "source": [
    "# Verifique mais uma vez se há outros casos complicados de duplicados\n",
    "\n",
    "duplicate_order_product_combinations = order_products_df.duplicated(subset=['order_id', 'product_id']).sum()\n",
    "print(\"\\nNúmero de combinações duplicadas de order_id e product_id:\", duplicate_order_product_combinations)"
   ]
  },
  {
   "cell_type": "markdown",
   "id": "0b890492",
   "metadata": {
    "id": "0b890492"
   },
   "source": [
    "\n",
    "\n",
    "Com base no resultado, podemos concluir que não há linhas completamente duplicadas nem combinações duplicadas. \n",
    "Isso indica que cada registro de produto em um pedido é único, tanto nas colunas combinadas quanto na combinação específica de pedido e produto. Por este motivo não é necessário nenhuma correção."
   ]
  },
  {
   "cell_type": "markdown",
   "id": "1e46de76",
   "metadata": {
    "id": "1e46de76"
   },
   "source": [
    "## Encontre e remova valores ausentes\n",
    "\n",
    "\n",
    "Ao processarmos valores duplicados, observamos que também temos valores ausentes que precisamos investigar nas seguintes colunas\n"
   ]
  },
  {
   "cell_type": "markdown",
   "id": "c0aebd78",
   "metadata": {
    "id": "c0aebd78"
   },
   "source": [
    "### DataFrame `products`"
   ]
  },
  {
   "cell_type": "code",
   "execution_count": 34,
   "id": "fe4a8b0f",
   "metadata": {
    "id": "fe4a8b0f"
   },
   "outputs": [
    {
     "name": "stdout",
     "output_type": "stream",
     "text": [
      "Número de nomes de produtos ausentes: 1258\n"
     ]
    }
   ],
   "source": [
    "# Encontre valores ausentes na coluna 'product_name'\n",
    "\n",
    "missing_product_names = products_df['product_name'].isna().sum()\n",
    "print(\"Número de nomes de produtos ausentes:\", missing_product_names)"
   ]
  },
  {
   "cell_type": "markdown",
   "id": "-A6x1AbJhjkp",
   "metadata": {
    "id": "-A6x1AbJhjkp"
   },
   "source": [
    "\n",
    "\n",
    "\n",
    "Valores ausentes indica que há produtos sem nomes registrados, isso poderá impactar a análise de produtos."
   ]
  },
  {
   "cell_type": "code",
   "execution_count": 36,
   "id": "e96167bc",
   "metadata": {
    "id": "e96167bc"
   },
   "outputs": [
    {
     "name": "stdout",
     "output_type": "stream",
     "text": [
      "\n",
      "Todos os nomes de produtos ausentes estão associados com o corredor de ID 100? True\n"
     ]
    }
   ],
   "source": [
    "# Todos os nomes de produtos ausentes estão associados com o corredor de ID 100?\n",
    "\n",
    "missing_products = products_df[products_df['product_name'].isna()]\n",
    "all_aisle_100 = (missing_products['aisle_id'] == 100).all()\n",
    "\n",
    "\n",
    "print(\"\\nTodos os nomes de produtos ausentes estão associados com o corredor de ID 100?\", all_aisle_100)\n"
   ]
  },
  {
   "cell_type": "markdown",
   "id": "WRpIfXRphpSL",
   "metadata": {
    "id": "WRpIfXRphpSL"
   },
   "source": [
    "\n",
    "\n",
    " Isso sugere que o problema de valores ausentes pode estar relacionado a um erro de entrada de dados ou uma categoria de produtos não especificada."
   ]
  },
  {
   "cell_type": "code",
   "execution_count": 37,
   "id": "8fd0a541",
   "metadata": {
    "id": "8fd0a541"
   },
   "outputs": [
    {
     "name": "stdout",
     "output_type": "stream",
     "text": [
      "Todos os nomes de produtos ausentes estão associados com o departamento de ID 21? True\n"
     ]
    }
   ],
   "source": [
    "# Todos os nomes de produtos ausentes estão associados com o departamento de ID 21?\n",
    "\n",
    "missing_products = products_df[products_df['product_name'].isna()]\n",
    "\n",
    "all_department_21 = (missing_products['department_id'] == 21).all()\n",
    "\n",
    "\n",
    "print(\"Todos os nomes de produtos ausentes estão associados com o departamento de ID 21?\", all_department_21)"
   ]
  },
  {
   "cell_type": "markdown",
   "id": "qDpdYn1Fht_I",
   "metadata": {
    "id": "qDpdYn1Fht_I"
   },
   "source": [
    "\n",
    "\n",
    " Assim como descrito na conclusão acima, isso sugere que o problema de valores ausentes pode estar relacionado a um erro de entrada de dados ou uma categoria de produtos não especificada."
   ]
  },
  {
   "cell_type": "code",
   "execution_count": 38,
   "id": "325c3464",
   "metadata": {
    "id": "325c3464"
   },
   "outputs": [
    {
     "name": "stdout",
     "output_type": "stream",
     "text": [
      "\n",
      "Informações do corredor com ID 100:\n",
      "    aisle_id    aisle\n",
      "99       100  missing\n",
      "\n",
      "Informações do departamento com ID 21:\n",
      "    department_id department\n",
      "20             21    missing\n"
     ]
    }
   ],
   "source": [
    "# Use as tabelas department e aisle para verificar os dados do corredor com ID 100 e do departamento com ID 21.\n",
    "\n",
    "aisle_100_info = aisles_df[aisles_df['aisle_id'] == 100]\n",
    "department_21_info = departments_df[departments_df['department_id'] == 21]\n",
    "\n",
    "print(\"\\nInformações do corredor com ID 100:\")\n",
    "print(aisle_100_info)\n",
    "\n",
    "print(\"\\nInformações do departamento com ID 21:\")\n",
    "print(department_21_info)"
   ]
  },
  {
   "cell_type": "markdown",
   "id": "nqhSTUPhhvEJ",
   "metadata": {
    "id": "nqhSTUPhhvEJ"
   },
   "source": [
    "\n",
    "\n",
    "Significa que os valores ausentes estão relacionados a categorias desconhecidas, o que pode ser um problema de dados incompletos."
   ]
  },
  {
   "cell_type": "code",
   "execution_count": 41,
   "id": "6b295120",
   "metadata": {
    "id": "6b295120"
   },
   "outputs": [],
   "source": [
    "# Preencha nomes de produtos ausentes com 'Unknown'\n",
    "\n",
    "products_df['product_name'].fillna('Unknown', inplace=True)"
   ]
  },
  {
   "cell_type": "markdown",
   "id": "fc70e5ad",
   "metadata": {
    "id": "fc70e5ad"
   },
   "source": [
    "\n",
    "\n",
    "Ao substituir os valores ausentes por 'Unknown', garantimos que a coluna product_name não contenha valores nulos, isso facilita análises e evita erros. Porém ainda é importante corrigir a categoria dos produtos para melhor qualidade dos dados."
   ]
  },
  {
   "cell_type": "markdown",
   "id": "7eb45c86",
   "metadata": {
    "id": "7eb45c86"
   },
   "source": [
    "### DataFrame `orders`"
   ]
  },
  {
   "cell_type": "code",
   "execution_count": null,
   "id": "93e41d96",
   "metadata": {
    "id": "93e41d96"
   },
   "outputs": [],
   "source": [
    "# Encontre os valores ausentes"
   ]
  },
  {
   "cell_type": "code",
   "execution_count": null,
   "id": "166e5a86",
   "metadata": {
    "id": "166e5a86"
   },
   "outputs": [],
   "source": [
    "# Há valores ausentes para os clientes que não estão fazendo o primeiro pedido?"
   ]
  },
  {
   "cell_type": "markdown",
   "id": "69dc9ca4",
   "metadata": {
    "id": "69dc9ca4"
   },
   "source": [
    "### DataFrame `order_products`"
   ]
  },
  {
   "cell_type": "code",
   "execution_count": 42,
   "id": "b8240253",
   "metadata": {
    "id": "b8240253"
   },
   "outputs": [
    {
     "name": "stdout",
     "output_type": "stream",
     "text": [
      "Número de valores ausentes em 'add_to_cart_order': 836\n"
     ]
    }
   ],
   "source": [
    "# Encontre os valores ausentes\n",
    "\n",
    "missing_add_to_cart_order = order_products_df['add_to_cart_order'].isna().sum()\n",
    "print(\"Número de valores ausentes em 'add_to_cart_order':\", missing_add_to_cart_order)"
   ]
  },
  {
   "cell_type": "code",
   "execution_count": 44,
   "id": "9a78e5ee",
   "metadata": {
    "id": "9a78e5ee"
   },
   "outputs": [
    {
     "name": "stdout",
     "output_type": "stream",
     "text": [
      "\n",
      "Valor mínimo de 'add_to_cart_order': 1.0\n",
      "Valor máximo de 'add_to_cart_order': 64.0\n"
     ]
    }
   ],
   "source": [
    "# Quais são os valores mínimo e máximo dessa coluna?\n",
    "\n",
    "min_add_to_cart_order = order_products_df['add_to_cart_order'].min()\n",
    "max_add_to_cart_order = order_products_df['add_to_cart_order'].max()\n",
    "\n",
    "print(\"\\nValor mínimo de 'add_to_cart_order':\", min_add_to_cart_order)\n",
    "print(\"Valor máximo de 'add_to_cart_order':\", max_add_to_cart_order)"
   ]
  },
  {
   "cell_type": "markdown",
   "id": "-Z2Ja215jW78",
   "metadata": {
    "id": "-Z2Ja215jW78"
   },
   "source": [
    "\n",
    "\n",
    "Os valores ausentes podem indicar falhas no registro da sequência de adição dos produtos, impactando análises sobre comportamento de compra. Os valores variam de 1 a 64, sugerindo que alguns pedidos incluem muitos itensisso ajuda a entender o comportamento dos usuários. \n",
    "\n",
    "Isso mostra a importância de tratar os valores ausentes para garantir análises precisas."
   ]
  },
  {
   "cell_type": "code",
   "execution_count": 46,
   "id": "ab9d0c2b",
   "metadata": {
    "id": "ab9d0c2b"
   },
   "outputs": [
    {
     "name": "stdout",
     "output_type": "stream",
     "text": [
      "IDs dos pedidos com pelo menos um valor ausente em 'add_to_cart_order':\n",
      "[2449164, 1968313, 2926893, 1717990, 1959075, 844733, 61355, 936852, 264710, 1564093, 129627, 293169, 2849370, 1386261, 3308010, 903110, 2136777, 3347453, 1888628, 165801, 2094761, 1038146, 2997021, 813364, 2256933, 171934, 2409109, 1730767, 1169835, 733526, 404157, 3125735, 747668, 1800005, 1961723, 871281, 388234, 1648217, 1477139, 102236, 1021563, 1832957, 2721963, 678116, 1220886, 1673227, 2999801, 1633337, 2470674, 2625444, 1677118, 2479011, 3383594, 1183255, 1713430, 2652650, 1598369, 1916118, 854647, 1302315, 888470, 180546, 2621907, 1308785, 2729254, 9310, 2170451, 2979697, 1625713, 1529171]\n"
     ]
    }
   ],
   "source": [
    "# Salve todos os IDs dos pedidos com pelo menos um valor ausente em 'add_to_cart_order'\n",
    "\n",
    "# Filtro\n",
    "orders_with_missing_add_to_cart = order_products_df[order_products_df['add_to_cart_order'].isna()]\n",
    "\n",
    "# Valores ausentes\n",
    "order_ids_with_missing = orders_with_missing_add_to_cart['order_id'].unique()\n",
    "\n",
    "# Exibir os IDs\n",
    "print(\"IDs dos pedidos com pelo menos um valor ausente em 'add_to_cart_order':\")\n",
    "print(order_ids_with_missing_list)"
   ]
  },
  {
   "cell_type": "code",
   "execution_count": 47,
   "id": "54c31695",
   "metadata": {
    "id": "54c31695"
   },
   "outputs": [
    {
     "name": "stdout",
     "output_type": "stream",
     "text": [
      "Valor mínimo da contagem de produtos em pedidos com valores ausentes: 1\n",
      "\n",
      "Todos os pedidos com valores ausentes contêm mais de 64 produtos? False\n"
     ]
    }
   ],
   "source": [
    "# Todos os pedidos com valores ausentes contêm mais de 64 produtos?\n",
    "# Agrupe os pedidos com dados ausentes por ID de pedido\n",
    "# Conte o número de 'product_id' em cada pedido e verifique o valor mínimo da contagem\n",
    "\n",
    "\n",
    "\n",
    "# Filtrar\n",
    "orders_with_missing_add_to_cart = order_products_df[order_products_df['add_to_cart_order'].isna()]\n",
    "\n",
    "# Agrupar por ID\n",
    "product_count_per_order = orders_with_missing_add_to_cart.groupby('order_id')['product_id'].count()\n",
    "\n",
    "# Verificar mínimo\n",
    "min_product_count = product_count_per_order.min()\n",
    "\n",
    "# Exibir o valor mínimo\n",
    "print(\"Valor mínimo da contagem de produtos em pedidos com valores ausentes:\", min_product_count)\n",
    "\n",
    "# Verificar se todos os pedidos com valores ausentes contêm mais de 64 produtos\n",
    "all_orders_have_more_than_64_products = min_product_count > 64\n",
    "\n",
    "print(\"\\nTodos os pedidos com valores ausentes contêm mais de 64 produtos?\", all_orders_have_more_than_64_products)"
   ]
  },
  {
   "cell_type": "markdown",
   "id": "p9V6pddtjglj",
   "metadata": {
    "id": "p9V6pddtjglj"
   },
   "source": [
    "\n",
    "\n",
    "Com base nessa análise podemos verificar que há vários pedidos com valores ausentes na coluna add_to_cart_order, isso pode impactar análises de comportamento de compra. \n",
    "\n",
    "Ao agrupar esses pedidos e contar o número de produtos, descobrimos que o valor mínimo é 1, mostrando que nem todos os pedidos com dados ausentes contêm mais de 64 produtos. \n",
    "\n",
    "Isso pode sugerir que a ausência de dados pode não estar relacionada ao tamanho do pedido, mas pode ser resultado de falhas no registro de dados. Portanto, é importante analisar mais a fundo as causas dos valores ausentes e considerar estratégias para análises futuras."
   ]
  },
  {
   "cell_type": "code",
   "execution_count": 48,
   "id": "7a987d08",
   "metadata": {
    "id": "7a987d08"
   },
   "outputs": [
    {
     "name": "stdout",
     "output_type": "stream",
     "text": [
      "0    17\n",
      "1     1\n",
      "2     1\n",
      "3    35\n",
      "4     5\n",
      "Name: add_to_cart_order, dtype: int64\n"
     ]
    }
   ],
   "source": [
    "# Substitua valores ausentes na coluna 'add_to_cart_order' por 999 e converta a coluna para o tipo integer\n",
    "\n",
    "# Substituir por 999\n",
    "order_products_df['add_to_cart_order'].fillna(999, inplace=True)\n",
    "\n",
    "# Converter para o tipo inteiro\n",
    "order_products_df['add_to_cart_order'] = order_products_df['add_to_cart_order'].astype(int)\n",
    "\n",
    "# Verificar\n",
    "print(order_products_df['add_to_cart_order'].head())"
   ]
  },
  {
   "cell_type": "markdown",
   "id": "fea4bcc7",
   "metadata": {
    "id": "fea4bcc7"
   },
   "source": [
    "\n",
    "\n",
    "Após substituir os valores ausentes por 999 e convertê-la para inteiros, a operação deu certo. \n",
    "\n",
    "Os primeiros valores confirmam que a conversão está correta e não há mais dados ausentes. \n",
    "\n",
    "Agora os daods estão prontos para análises futuras, e o uso de 999 facilita a identificação de registros que tinham dados ausentes."
   ]
  },
  {
   "cell_type": "markdown",
   "id": "RnplPFY1gSrb",
   "metadata": {
    "id": "RnplPFY1gSrb"
   },
   "source": [
    "## Conclusões\n",
    "\n",
    "\n",
    "Na Etapa 2, realizei o pré-processamento dos dados para garantir consistência nas análises futuras.\n",
    "\n",
    "-Removi duplicatas nos DataFrames.\n",
    "-No products, substituí valores ausentes por \"Unknown\".\n",
    "-No orders, identifiquei que valores ausentes podem indicar pedidos iniciais.\n",
    "-No order_products, substituí valores ausentes por 999, convertendo-os para inteiros, o que facilita a identificação de registros com dados ausentes. Além disso, constatei que a ausência de dados pode não estar relacionada ao tamanho do pedido.\n",
    "\n",
    "Esses tratamentos garantem que os dados estejam limpos, evitando distorções e garantindo a precisão das análises futuras."
   ]
  },
  {
   "cell_type": "markdown",
   "id": "UjrOIwTcz3ri",
   "metadata": {
    "id": "UjrOIwTcz3ri"
   },
   "source": [
    "# Etapa 3. Análise de dados\n",
    "\n"
   ]
  },
  {
   "cell_type": "markdown",
   "id": "short-capability",
   "metadata": {
    "id": "short-capability"
   },
   "source": [
    "### [A1] Verifique se os valores fazem sentido"
   ]
  },
  {
   "cell_type": "code",
   "execution_count": 69,
   "id": "growing-fruit",
   "metadata": {
    "id": "growing-fruit"
   },
   "outputs": [
    {
     "name": "stdout",
     "output_type": "stream",
     "text": [
      "Os valores em 'order_hour_of_day' estão dentro do intervalo esperado (0-23)? True\n",
      "Os valores em 'order_dow' estão dentro do intervalo esperado (0-6)? True\n"
     ]
    }
   ],
   "source": [
    "# Verificar os valores entre 0 e 23\n",
    "valid_hours = orders_df['order_hour_of_day'].between(0, 23).all()\n",
    "\n",
    "# Verificar os valores entre 0 e 6\n",
    "valid_days = orders_df['order_dow'].between(0, 6).all()\n",
    "\n",
    "# Exibir resultados\n",
    "print(\"Os valores em 'order_hour_of_day' estão dentro do intervalo esperado (0-23)?\", valid_hours)\n",
    "print(\"Os valores em 'order_dow' estão dentro do intervalo esperado (0-6)?\", valid_days)"
   ]
  },
  {
   "cell_type": "markdown",
   "id": "hmR2GNQ6lCsX",
   "metadata": {
    "id": "hmR2GNQ6lCsX"
   },
   "source": [
    "\n",
    "\n",
    "A verificação dos dados confirma que todos os valores nas colunas order_hour_of_day e order_dow estão dentro dos intervalos esperados. \n",
    "\n",
    "Isso indica que os dados representam corretamente as horas do dia e os dias da semana, garantindo a integridade DASinformações para análises."
   ]
  },
  {
   "cell_type": "markdown",
   "id": "a6743a70",
   "metadata": {
    "id": "a6743a70"
   },
   "source": [
    "### [A2] Quantas pessoas fazem pedidos a cada hora do dia?"
   ]
  },
  {
   "cell_type": "code",
   "execution_count": 66,
   "id": "a36cca27",
   "metadata": {
    "id": "a36cca27"
   },
   "outputs": [
    {
     "data": {
      "image/png": "[encoded data removed]",
      "text/plain": [
       "<Figure size 1000x600 with 1 Axes>"
      ]
     },
     "metadata": {},
     "output_type": "display_data"
    },
    {
     "name": "stdout",
     "output_type": "stream",
     "text": [
      "0      3180\n",
      "1      1763\n",
      "2      1004\n",
      "3       770\n",
      "4       765\n",
      "5      1371\n",
      "6      4215\n",
      "7     13043\n",
      "8     25024\n",
      "9     35896\n",
      "10    40578\n",
      "11    40032\n",
      "12    38034\n",
      "13    39007\n",
      "14    39631\n",
      "15    39789\n",
      "16    38112\n",
      "17    31930\n",
      "18    25510\n",
      "19    19547\n",
      "20    14624\n",
      "21    11019\n",
      "22     8512\n",
      "23     5611\n",
      "Name: order_hour_of_day, dtype: int64\n"
     ]
    }
   ],
   "source": [
    "from matplotlib import pyplot as plt\n",
    "\n",
    "# Gráfico de pedidos a cada hora do dia\n",
    "orders_df['order_hour_of_day'].value_counts().sort_index().plot(kind='bar', figsize=(10, 6), color='skyblue')\n",
    "plt.title('Número de Pedidos por Hora do Dia')\n",
    "plt.xlabel('Hora do Dia')\n",
    "plt.ylabel('Número de Pedidos')\n",
    "plt.xticks(rotation=0)\n",
    "plt.show()\n",
    "\n",
    "\n",
    "orders_per_hour = orders_df['order_hour_of_day'].value_counts().sort_index()\n",
    "\n",
    "\n",
    "print(orders_per_hour)"
   ]
  },
  {
   "cell_type": "markdown",
   "id": "11270eed",
   "metadata": {
    "id": "11270eed"
   },
   "source": [
    "\n",
    "\n",
    "É possível observar que o número de pedidos aumenta significativamente a partir das 7h, atingindo o pico entre 9h e 15h, com o maior volume de pedidos às 10h. Após as 17h, o número de pedidos começa a diminuir gradualmente.\n",
    "\n",
    "Os horários de menor atividade são entre 0h e 5h. Esses padrões sugerem que os consumidores preferem fazer compras durante o dia, especialmente no final da manhã e início da tarde."
   ]
  },
  {
   "cell_type": "markdown",
   "id": "documented-command",
   "metadata": {
    "id": "documented-command"
   },
   "source": [
    "### [A3] Em que dia da semana as pessoas compram produtos alimentícios?"
   ]
  },
  {
   "cell_type": "code",
   "execution_count": 67,
   "id": "chief-digit",
   "metadata": {
    "id": "chief-digit",
    "scrolled": true
   },
   "outputs": [
    {
     "data": {
      "image/png": "[encoded data removed]",
      "text/plain": [
       "<Figure size 1000x600 with 1 Axes>"
      ]
     },
     "metadata": {},
     "output_type": "display_data"
    },
    {
     "name": "stdout",
     "output_type": "stream",
     "text": [
      "0    84090\n",
      "1    82185\n",
      "2    65833\n",
      "3    60912\n",
      "4    59810\n",
      "5    63488\n",
      "6    62649\n",
      "Name: order_dow, dtype: int64\n"
     ]
    }
   ],
   "source": [
    "from matplotlib import pyplot as plt\n",
    "\n",
    "\n",
    "# Gráfico de que dia da semana as pessoas fazem compras.\n",
    "orders_df['order_dow'].value_counts().sort_index().plot(kind='bar', figsize=(10, 6), color='lightgreen')\n",
    "plt.title('Número de Pedidos por Dia da Semana')\n",
    "plt.xlabel('Dia da Semana (0 = Domingo)')\n",
    "plt.ylabel('Número de Pedidos')\n",
    "plt.xticks(ticks=range(0, 7), labels=['Dom', 'Seg', 'Ter', 'Qua', 'Qui', 'Sex', 'Sáb'], rotation=0)\n",
    "plt.show()\n",
    "\n",
    "orders_per_day = orders_df['order_dow'].value_counts().sort_index()\n",
    "print(orders_per_day)"
   ]
  },
  {
   "cell_type": "markdown",
   "id": "dominant-lightning",
   "metadata": {
    "id": "dominant-lightning"
   },
   "source": [
    "\n",
    "\n",
    "É possível observar que o maior número de pedidos ocorre no domingo (0), seguido de perto pela segunda-feira (1). \n",
    "\n",
    "Isso pode sugerir que os usuários preferem fazer suas compras de produtos alimentícios no início da semana, possivelmente para se preparar para os dias seguintes. \n",
    "\n",
    "O volume de pedidos diminui de terça-feira (2) a quinta-feira (4), ou seja, com menor atividade de compras no meio da semana. No entanto, há um leve aumento na sexta-feira (5) e sábado (6), o que pode significar compras para o fim de semana. \n",
    "\n",
    "Esses padrões apontam que é ideal ter estratégias de vendas no início e final da semana para o engajamento dos usuários."
   ]
  },
  {
   "cell_type": "markdown",
   "id": "cutting-concert",
   "metadata": {
    "id": "cutting-concert"
   },
   "source": [
    "### [A4] Quanto tempo as pessoas esperam até fazer outro pedido?"
   ]
  },
  {
   "cell_type": "markdown",
   "id": "discrete-vertex",
   "metadata": {
    "id": "discrete-vertex"
   },
   "source": [
    "\n",
    "\n",
    "A análise mostra que o tempo mínimo entre pedidos é de 0 dias, o que pode indicar compras consecutivas no mesmo dia, enquanto o máximo é de 30 dias, sugerindo um ciclo mensal para alguns consumidores ou até mesmo compras recorrentes por assinatura. \n",
    "\n",
    "Isso reflete uma variedade de padrões de compra."
   ]
  },
  {
   "cell_type": "code",
   "execution_count": 68,
   "id": "gMOIimGd5VNb",
   "metadata": {
    "id": "gMOIimGd5VNb"
   },
   "outputs": [
    {
     "name": "stdout",
     "output_type": "stream",
     "text": [
      "Valor mínimo de dias até o próximo pedido: 0.0\n",
      "Valor máximo de dias até o próximo pedido: 30.0\n"
     ]
    },
    {
     "data": {
      "image/png": "[encoded data removed]",
      "text/plain": [
       "<Figure size 1000x600 with 1 Axes>"
      ]
     },
     "metadata": {},
     "output_type": "display_data"
    }
   ],
   "source": [
    "from matplotlib import pyplot as plt\n",
    "\n",
    "\n",
    "# Gráfico de quanto tempo as pessoas esperam até fazer seu próximo pedido\n",
    "orders_df['days_since_prior_order'].dropna().plot(kind='hist', bins=30, figsize=(10, 6), color='coral', edgecolor='black')\n",
    "plt.title('Tempo até o Próximo Pedido')\n",
    "plt.xlabel('Dias desde o Pedido Anterior')\n",
    "plt.ylabel('Número de Pedidos')\n",
    "\n",
    "# Comentário sobre os valores mínimo e máximo\n",
    "min_days = orders_df['days_since_prior_order'].min()\n",
    "max_days = orders_df['days_since_prior_order'].max()\n",
    "print(f\"Valor mínimo de dias até o próximo pedido: {min_days}\")\n",
    "print(f\"Valor máximo de dias até o próximo pedido: {max_days}\")\n",
    "\n",
    "plt.show()"
   ]
  },
  {
   "cell_type": "markdown",
   "id": "packed-classic",
   "metadata": {
    "id": "packed-classic"
   },
   "source": [
    "### [B1] Diferenças nas quartas e sábados em `'order_hour_of_day'`. Crie gráficos de barras para ambos os dias e descreva as diferenças."
   ]
  },
  {
   "cell_type": "code",
   "execution_count": 54,
   "id": "d89b8403",
   "metadata": {
    "id": "d89b8403"
   },
   "outputs": [],
   "source": [
    "import pandas as pd\n",
    "from matplotlib import pyplot as plt"
   ]
  },
  {
   "cell_type": "code",
   "execution_count": 58,
   "id": "94e54e8a",
   "metadata": {
    "id": "94e54e8a"
   },
   "outputs": [
    {
     "data": {
      "image/png": "[encoded data removed]",
      "text/plain": [
       "<Figure size 1200x600 with 1 Axes>"
      ]
     },
     "metadata": {},
     "output_type": "display_data"
    }
   ],
   "source": [
    "# Filtro para quartas (3) e sábados (6)\n",
    "wednesday_orders = orders_df[orders_df['order_dow'] == 3]\n",
    "saturday_orders = orders_df[orders_df['order_dow'] == 6]\n",
    "\n",
    "# Contar pedidos por hora\n",
    "wednesday_counts = wednesday_orders['order_hour_of_day'].value_counts().sort_index()\n",
    "saturday_counts = saturday_orders['order_hour_of_day'].value_counts().sort_index()\n",
    "\n",
    "# Gráfico de barras\n",
    "plt.figure(figsize=(12, 6))\n",
    "plt.bar(wednesday_counts.index - 0.2, wednesday_counts.values, width=0.4, label='Quarta-feira', color='blue', alpha=0.6)\n",
    "plt.bar(saturday_counts.index + 0.2, saturday_counts.values, width=0.4, label='Sábado', color='orange', alpha=0.6)\n",
    "plt.title('Distribuição de Pedidos por Hora do Dia (Quartas vs Sábados)')\n",
    "plt.xlabel('Hora do Dia')\n",
    "plt.ylabel('Número de Pedidos')\n",
    "plt.xticks(range(0, 24))\n",
    "plt.legend()\n",
    "plt.show()"
   ]
  },
  {
   "cell_type": "markdown",
   "id": "e3891143",
   "metadata": {
    "id": "e3891143"
   },
   "source": [
    "### [B2] Qual é a distribuição do número de pedidos por cliente?"
   ]
  },
  {
   "cell_type": "code",
   "execution_count": null,
   "id": "d8c26c23",
   "metadata": {
    "id": "d8c26c23"
   },
   "outputs": [],
   "source": [
    "import pandas as pd\n",
    "from matplotlib import pyplot as plt"
   ]
  },
  {
   "cell_type": "code",
   "execution_count": 61,
   "id": "00e69a66",
   "metadata": {
    "id": "00e69a66"
   },
   "outputs": [
    {
     "data": {
      "image/png": "[encoded data removed]",
      "text/plain": [
       "<Figure size 1200x600 with 1 Axes>"
      ]
     },
     "metadata": {},
     "output_type": "display_data"
    }
   ],
   "source": [
    "# Contar o número de pedidos por cliente\n",
    "orders_per_customer = orders_df['user_id'].value_counts()\n",
    "\n",
    "# Contar quantos clientes fizeram 1, 2, 3, etc. pedidos\n",
    "order_distribution = orders_per_customer.value_counts().sort_index()\n",
    "\n",
    "# Criar gráfico de barras para a distribuição\n",
    "plt.figure(figsize=(12, 6))\n",
    "order_distribution.plot(kind='bar', color='purple')\n",
    "plt.title('Distribuição do Número de Pedidos por Cliente')\n",
    "plt.xlabel('Número de Pedidos')\n",
    "plt.ylabel('Número de Clientes')\n",
    "plt.xticks(rotation=0)\n",
    "plt.show()"
   ]
  },
  {
   "cell_type": "markdown",
   "id": "d2eff7d5",
   "metadata": {
    "id": "d2eff7d5"
   },
   "source": [
    "\n",
    "\n",
    "O gráfico mostra que a maioria dos clientes faz apenas um pedido, com um número decrescente de clientes à medida que o número de pedidos aumenta. \n",
    "\n",
    "Isso indica que muitos clientes são compradores ocasionais, enquanto um grupo menor realiza compras repetidas. \n",
    "\n",
    "Essa distribuição sugere que pode ser adotadas estratégias de fidelização, assim podendo aumentar o número de pedidos por cliente."
   ]
  },
  {
   "cell_type": "markdown",
   "id": "54a0319c",
   "metadata": {
    "id": "54a0319c"
   },
   "source": [
    "### [B3] Quais são os 20 produtos mais populares? Exiba os IDs e nomes."
   ]
  },
  {
   "cell_type": "code",
   "execution_count": 62,
   "id": "exterior-arizona",
   "metadata": {
    "id": "exterior-arizona",
    "scrolled": true
   },
   "outputs": [
    {
     "name": "stdout",
     "output_type": "stream",
     "text": [
      "                   product_name  count\n",
      "24852                    Banana  66050\n",
      "13176    Bag of Organic Bananas  53297\n",
      "21137      Organic Strawberries  37039\n",
      "21903      Organic Baby Spinach  33971\n",
      "47209      Organic Hass Avocado  29773\n",
      "47766           Organic Avocado  24689\n",
      "47626               Large Lemon  21495\n",
      "16797              Strawberries  20018\n",
      "26209                     Limes  19690\n",
      "27845        Organic Whole Milk  19600\n",
      "27966       Organic Raspberries  19197\n",
      "22935      Organic Yellow Onion  15898\n",
      "24964            Organic Garlic  15292\n",
      "45007          Organic Zucchini  14584\n",
      "39275       Organic Blueberries  13879\n",
      "49683            Cucumber Kirby  13675\n",
      "28204        Organic Fuji Apple  12544\n",
      "5876              Organic Lemon  12232\n",
      "8277   Apple Honeycrisp Organic  11993\n",
      "40706    Organic Grape Tomatoes  11781\n"
     ]
    }
   ],
   "source": [
    "# Contar a frequência dos produtos\n",
    "product_counts = order_products_df['product_id'].value_counts().head(20)\n",
    "\n",
    "# Quais os nomes\n",
    "top_products = products_df[products_df['product_id'].isin(product_counts.index)]\n",
    "\n",
    "# Quais os IDs\n",
    "top_products_info = top_products[['product_id', 'product_name']].set_index('product_id').loc[product_counts.index]\n",
    "\n",
    "# Exibir os resultados\n",
    "top_products_info['count'] = product_counts.values\n",
    "print(top_products_info)"
   ]
  },
  {
   "cell_type": "markdown",
   "id": "7df00f47",
   "metadata": {
    "id": "7df00f47"
   },
   "source": [
    "\n",
    "\n",
    "A análise dos 20 produtos mais populares mostra uma preferência por itens frescos e orgânicos, com bananas e sacos de bananas orgânicas liderando a lista. \n",
    "\n",
    "Produtos como morangos, espinafre, abacates e leite integral orgânico também são altamente demandados. \n",
    "\n",
    "Essa 'tendência' indica que os consumidores preferem alimentos naturais, dessa forma uma estratégia seria aumentar a variedade de produtos frescos disponíveis para essa demanda."
   ]
  },
  {
   "cell_type": "markdown",
   "id": "romantic-deposit",
   "metadata": {
    "id": "romantic-deposit"
   },
   "source": [
    "### [C1] Quantos itens as pessoas normalmente compram em um pedido? Como fica a distribuição?"
   ]
  },
  {
   "cell_type": "code",
   "execution_count": 63,
   "id": "virtual-punch",
   "metadata": {
    "id": "virtual-punch"
   },
   "outputs": [],
   "source": [
    "import pandas as pd\n",
    "from matplotlib import pyplot as plt\n",
    "\n",
    "# Contar itens por pedido\n",
    "items_per_order = order_products_df['order_id'].value_counts()"
   ]
  },
  {
   "cell_type": "code",
   "execution_count": 64,
   "id": "sensitive-breathing",
   "metadata": {
    "id": "sensitive-breathing"
   },
   "outputs": [
    {
     "data": {
      "image/png": "[encoded data removed]",
      "text/plain": [
       "<Figure size 1200x600 with 1 Axes>"
      ]
     },
     "metadata": {},
     "output_type": "display_data"
    }
   ],
   "source": [
    "# Criar um histograma\n",
    "plt.figure(figsize=(12, 6))\n",
    "items_per_order.plot(kind='hist', bins=30, color='teal', edgecolor='black')\n",
    "plt.title('Distribuição do Número de Itens por Pedido')\n",
    "plt.xlabel('Número de Itens')\n",
    "plt.ylabel('Número de Pedidos')\n",
    "plt.show()"
   ]
  },
  {
   "cell_type": "code",
   "execution_count": 65,
   "id": "completed-frank",
   "metadata": {
    "id": "completed-frank"
   },
   "outputs": [
    {
     "name": "stdout",
     "output_type": "stream",
     "text": [
      "Média de itens por pedido: 10.10\n"
     ]
    }
   ],
   "source": [
    "# Calcular a média \n",
    "average_items_per_order = items_per_order.mean()\n",
    "print(f\"Média de itens por pedido: {average_items_per_order:.2f}\")"
   ]
  },
  {
   "cell_type": "markdown",
   "id": "designed-mortality",
   "metadata": {
    "id": "designed-mortality"
   },
   "source": [
    "\n",
    "\n",
    "\n",
    "A análise mostra que a maioria dos pedidos contém cerca de 10 itens, com uma distribuição que diminui à medida que o número de itens aumenta. \n",
    "\n",
    "Isso indica que os consumidores geralmente fazem compras de tamanho moderado, possivelmente para atender às necessidades semanais. \n",
    "\n",
    "A cauda longa na distribuição sugere que, embora menos comuns, alguns pedidos são significativamente maiores, o que pode refletir compras para ocasiões especiais. \n",
    "\n",
    "Esses resultados podem ajudar a otimizar o gerenciamento de estoque."
   ]
  },
  {
   "cell_type": "markdown",
   "id": "5e6b5537",
   "metadata": {
    "id": "5e6b5537"
   },
   "source": [
    "### [C2] Quais são os 20 principais itens incluídos com mais frequência em pedidos repetidos? Exiba os IDs e nomes."
   ]
  },
  {
   "cell_type": "code",
   "execution_count": 70,
   "id": "9374e55a",
   "metadata": {
    "id": "9374e55a"
   },
   "outputs": [
    {
     "name": "stdout",
     "output_type": "stream",
     "text": [
      "                   product_name  count\n",
      "24852                    Banana  55763\n",
      "13176    Bag of Organic Bananas  44450\n",
      "21137      Organic Strawberries  28639\n",
      "21903      Organic Baby Spinach  26233\n",
      "47209      Organic Hass Avocado  23629\n",
      "47766           Organic Avocado  18743\n",
      "27845        Organic Whole Milk  16251\n",
      "47626               Large Lemon  15044\n",
      "27966       Organic Raspberries  14748\n",
      "16797              Strawberries  13945\n",
      "26209                     Limes  13327\n",
      "22935      Organic Yellow Onion  11145\n",
      "24964            Organic Garlic  10411\n",
      "45007          Organic Zucchini  10076\n",
      "49683            Cucumber Kirby   9538\n",
      "28204        Organic Fuji Apple   8989\n",
      "8277   Apple Honeycrisp Organic   8836\n",
      "39275       Organic Blueberries   8799\n",
      "5876              Organic Lemon   8412\n",
      "49235       Organic Half & Half   8389\n"
     ]
    }
   ],
   "source": [
    "# Filtrar pedidos repetidos\n",
    "reordered_products = order_products_df[order_products_df['reordered'] == 1]\n",
    "\n",
    "# Contar a frequência de cada produto em pedidos repetidos\n",
    "reordered_product_counts = reordered_products['product_id'].value_counts().head(20)\n",
    "\n",
    "# Obter os nomes dos produtos\n",
    "top_reordered_products = products_df[products_df['product_id'].isin(reordered_product_counts.index)]\n",
    "\n",
    "# Juntar ID e nome\n",
    "top_reordered_products_info = top_reordered_products[['product_id', 'product_name']].set_index('product_id').loc[reordered_product_counts.index]\n",
    "\n",
    "# Adicionar a contagem de frequência\n",
    "top_reordered_products_info['count'] = reordered_product_counts.values\n",
    "\n",
    "# Exibir os resultados\n",
    "print(top_reordered_products_info)"
   ]
  },
  {
   "cell_type": "markdown",
   "id": "80e70c74",
   "metadata": {
    "id": "80e70c74"
   },
   "source": [
    "\n",
    "\n",
    "A análise dos 20 principais itens incluídos em pedidos repetidos aponta para a preferência por produtos frescos e orgânicos, com bananas e sacos de bananas orgânicas liderando a lista.\n",
    "\n",
    "Isso indica que os consumidores têm alta fidelidade a produtos saudáveis e naturais, sugerindo que estratégias com foco em produtos orgânicos podem ser eficazes para aumentar a retenção de clientes e impulsionar compras repetidas."
   ]
  },
  {
   "cell_type": "markdown",
   "id": "9d312b14",
   "metadata": {
    "id": "9d312b14"
   },
   "source": [
    "### [C3] Para cada produto, qual parcela de todos os pedidos dele são repetidos?"
   ]
  },
  {
   "cell_type": "code",
   "execution_count": 71,
   "id": "8ae9f4b1",
   "metadata": {
    "id": "8ae9f4b1"
   },
   "outputs": [
    {
     "name": "stdout",
     "output_type": "stream",
     "text": [
      "    product_id  reorder_ratio\n",
      "0            1       0.564286\n",
      "1            2            NaN\n",
      "2            3       0.738095\n",
      "3            4       0.510204\n",
      "4            7       0.500000\n",
      "5            8       0.315789\n",
      "6            9       0.761905\n",
      "7           10       0.448071\n",
      "8           11       0.625000\n",
      "9           12       0.390244\n",
      "10          13       0.500000\n",
      "11          14            NaN\n",
      "12          17            NaN\n",
      "13          18       0.533333\n",
      "14          19            NaN\n",
      "15          21            NaN\n",
      "16          22       0.500000\n",
      "17          23       0.380952\n",
      "18          24            NaN\n",
      "19          25       0.674576\n"
     ]
    }
   ],
   "source": [
    "# Contar o total de pedidos para cada produto\n",
    "total_orders_per_product = order_products_df['product_id'].value_counts()\n",
    "\n",
    "# Contar os pedidos repetidos para cada produto\n",
    "reordered_orders_per_product = order_products_df[order_products_df['reordered'] == 1]['product_id'].value_counts()\n",
    "\n",
    "# Calcular a parcela de pedidos repetidos\n",
    "reorder_ratio = reordered_orders_per_product / total_orders_per_product\n",
    "\n",
    "# Criar um DataFrame com os resultados\n",
    "reorder_ratio_df = reorder_ratio.reset_index()\n",
    "reorder_ratio_df.columns = ['product_id', 'reorder_ratio']\n",
    "\n",
    "# Exibir os resultados\n",
    "print(reorder_ratio_df.head(20))"
   ]
  },
  {
   "cell_type": "markdown",
   "id": "I10dEIAyldcO",
   "metadata": {
    "id": "I10dEIAyldcO"
   },
   "source": [
    "\n",
    "\n",
    "A análise da proporção de pedidos repetidos por produto revela que muitos produtos têm uma alta taxa de reordenação, indicando forte lealdade dos clientes. Produtos com uma taxa acima de 0.5, como os IDs 3, 9, e 25, são frequentemente reordenados, sugerindo que são favoritos entre os consumidores. No entanto, alguns produtos apresentam valores NaN, indicando que não foram reordenados, o que pode apontar para itens menos populares ou novos no mercado. Esses insights podem ajudar a direcionar estratégias de marketing e estoque, focando em produtos com alta fidelidade."
   ]
  },
  {
   "cell_type": "markdown",
   "id": "92d35137",
   "metadata": {
    "id": "92d35137"
   },
   "source": [
    "### [C5] Quais são os 20 principais itens que as pessoas colocam nos carrinhos antes de todos os outros?"
   ]
  },
  {
   "cell_type": "code",
   "execution_count": 73,
   "id": "0ae57274",
   "metadata": {
    "id": "0ae57274",
    "scrolled": true
   },
   "outputs": [
    {
     "name": "stdout",
     "output_type": "stream",
     "text": [
      "                      product_name  count\n",
      "24852                       Banana  15562\n",
      "13176       Bag of Organic Bananas  11026\n",
      "27845           Organic Whole Milk   4363\n",
      "21137         Organic Strawberries   3946\n",
      "47209         Organic Hass Avocado   3390\n",
      "21903         Organic Baby Spinach   3336\n",
      "47766              Organic Avocado   3044\n",
      "19660                 Spring Water   2336\n",
      "16797                 Strawberries   2308\n",
      "27966          Organic Raspberries   2024\n",
      "44632   Sparkling Water Grapefruit   1914\n",
      "49235          Organic Half & Half   1797\n",
      "47626                  Large Lemon   1737\n",
      "196                           Soda   1733\n",
      "38689     Organic Reduced Fat Milk   1397\n",
      "26209                        Limes   1370\n",
      "12341                Hass Avocados   1340\n",
      "5785   Organic Reduced Fat 2% Milk   1310\n",
      "27086                  Half & Half   1309\n",
      "22935         Organic Yellow Onion   1246\n"
     ]
    }
   ],
   "source": [
    "# Filtro de produtos que são adicionados primeiro ao carrinho\n",
    "first_in_cart = order_products_df[order_products_df['add_to_cart_order'] == 1]\n",
    "\n",
    "# Contar a frequência de cada produto\n",
    "first_in_cart_counts = first_in_cart['product_id'].value_counts().head(20)\n",
    "\n",
    "# Obter os nomes dos produtos\n",
    "top_first_in_cart_products = products_df[products_df['product_id'].isin(first_in_cart_counts.index)]\n",
    "\n",
    "# Juntar ID e nome\n",
    "top_first_in_cart_products_info = top_first_in_cart_products[['product_id', 'product_name']].set_index('product_id').loc[first_in_cart_counts.index]\n",
    "\n",
    "# Adicionar a contagem de frequência\n",
    "top_first_in_cart_products_info['count'] = first_in_cart_counts.values\n",
    "\n",
    "# Exibir os resultados\n",
    "print(top_first_in_cart_products_info)"
   ]
  },
  {
   "cell_type": "markdown",
   "id": "28ce9872",
   "metadata": {
    "id": "28ce9872"
   },
   "source": [
    "\n",
    "\n",
    "A análise revela que produtos frescos e orgânicos, como bananas, leite integral orgânico e morangos, são frequentemente os primeiros itens colocados no carrinho. \n",
    "\n",
    "Isso pode indicar que os consumidores preferem produtos saudáveis e essenciais ao iniciar suas compras. A presença de itens como água e refrigerantes também sugere que bebidas são importantes. \n",
    "\n",
    "Tudo isso pode ajudar a otimizar as estratégias de marketing, destacando esses produtos para atrair a atenção dos consumidores logo no início de suas compras."
   ]
  },
  {
   "cell_type": "markdown",
   "id": "TisH_5Cp3wAi",
   "metadata": {
    "id": "TisH_5Cp3wAi"
   },
   "source": [
    "# Conclusão geral do projeto:"
   ]
  },
  {
   "cell_type": "code",
   "execution_count": null,
   "id": "Nk-4GS7mDwqY",
   "metadata": {
    "id": "Nk-4GS7mDwqY"
   },
   "outputs": [],
   "source": [
    "A análise dos dados de pedidos revelou padrões no comportamento de compra dos consumidores:\n",
    "\n",
    "\n",
    "Tamanho dos Pedidos: Os clientes tendem a fazer compras de tamanho moderado, com uma média de 10 itens por pedido;\n",
    "\n",
    "Frequência de Compras: Muitos clientes são compradores ocasionais, enquanto um grupo menor realiza compras repetidas;\n",
    "\n",
    "Preferências de Produtos: Produtos frescos e orgânicos, como bananas e espinafre, são populares, indicando uma preferência por alimentos saudáveis;\n",
    "\n",
    "Horários de Compra: As compras ocorrem principalmente durante o dia, com picos entre 10h e 15h, e são mais frequentes no início da semana;\n",
    "\n",
    "\n",
    "Esses resultados podem guiar estratégias de marketing, otimização de estoque, focando em produtos e horários de pico para maximizar o engajamento do cliente."
   ]
  }
 ],
 "metadata": {
  "ExecuteTimeLog": [
   {
    "duration": 157,
    "start_time": "2024-12-09T15:01:24.826Z"
   },
   {
    "duration": 12,
    "start_time": "2024-12-09T15:01:53.439Z"
   },
   {
    "duration": 12,
    "start_time": "2024-12-09T15:05:44.616Z"
   },
   {
    "duration": 303,
    "start_time": "2024-12-09T15:05:59.927Z"
   },
   {
    "duration": 2242,
    "start_time": "2024-12-09T15:06:07.699Z"
   },
   {
    "duration": 21,
    "start_time": "2024-12-09T15:06:12.242Z"
   },
   {
    "duration": 10,
    "start_time": "2024-12-09T15:06:15.009Z"
   },
   {
    "duration": 11,
    "start_time": "2024-12-09T15:06:17.862Z"
   },
   {
    "duration": 8,
    "start_time": "2024-12-09T15:06:20.674Z"
   },
   {
    "duration": 7,
    "start_time": "2024-12-09T15:06:22.891Z"
   },
   {
    "duration": 160,
    "start_time": "2024-12-09T15:12:37.670Z"
   },
   {
    "duration": 405,
    "start_time": "2024-12-09T15:13:56.960Z"
   },
   {
    "duration": 297,
    "start_time": "2024-12-09T15:15:10.910Z"
   },
   {
    "duration": 198,
    "start_time": "2024-12-09T15:15:52.356Z"
   },
   {
    "duration": 930,
    "start_time": "2024-12-09T15:18:56.943Z"
   },
   {
    "duration": 10,
    "start_time": "2024-12-09T15:18:59.812Z"
   },
   {
    "duration": 10,
    "start_time": "2024-12-09T15:19:04.183Z"
   },
   {
    "duration": 7,
    "start_time": "2024-12-09T15:19:06.384Z"
   },
   {
    "duration": 8,
    "start_time": "2024-12-09T15:19:08.026Z"
   },
   {
    "duration": 9,
    "start_time": "2024-12-09T15:19:10.039Z"
   },
   {
    "duration": 2,
    "start_time": "2024-12-09T15:21:27.085Z"
   },
   {
    "duration": 9,
    "start_time": "2024-12-09T15:22:02.107Z"
   },
   {
    "duration": 5,
    "start_time": "2024-12-09T15:22:08.275Z"
   },
   {
    "duration": 9,
    "start_time": "2024-12-09T15:22:24.574Z"
   },
   {
    "duration": 102,
    "start_time": "2024-12-09T15:22:49.476Z"
   },
   {
    "duration": 91,
    "start_time": "2024-12-09T15:23:49.761Z"
   },
   {
    "duration": 30,
    "start_time": "2024-12-09T15:24:38.951Z"
   },
   {
    "duration": 156,
    "start_time": "2024-12-09T15:36:15.674Z"
   },
   {
    "duration": 12,
    "start_time": "2024-12-09T15:37:19.548Z"
   },
   {
    "duration": 284,
    "start_time": "2024-12-09T15:37:25.252Z"
   },
   {
    "duration": 882,
    "start_time": "2024-12-09T15:37:29.511Z"
   },
   {
    "duration": 11,
    "start_time": "2024-12-09T15:37:30.395Z"
   },
   {
    "duration": 10,
    "start_time": "2024-12-09T15:37:31.405Z"
   },
   {
    "duration": 7,
    "start_time": "2024-12-09T15:37:33.523Z"
   },
   {
    "duration": 8,
    "start_time": "2024-12-09T15:37:34.321Z"
   },
   {
    "duration": 9,
    "start_time": "2024-12-09T15:37:35.947Z"
   },
   {
    "duration": 98,
    "start_time": "2024-12-09T15:37:39.298Z"
   },
   {
    "duration": 2,
    "start_time": "2024-12-09T15:43:23.407Z"
   },
   {
    "duration": 3,
    "start_time": "2024-12-09T15:43:28.321Z"
   },
   {
    "duration": 2,
    "start_time": "2024-12-09T15:43:29.967Z"
   },
   {
    "duration": 2,
    "start_time": "2024-12-09T15:43:31.136Z"
   },
   {
    "duration": 9,
    "start_time": "2024-12-09T15:45:37.799Z"
   },
   {
    "duration": 5,
    "start_time": "2024-12-09T15:46:01.213Z"
   },
   {
    "duration": 9,
    "start_time": "2024-12-09T15:46:06.197Z"
   },
   {
    "duration": 103,
    "start_time": "2024-12-09T15:46:27.608Z"
   },
   {
    "duration": 2,
    "start_time": "2024-12-09T15:46:40.113Z"
   },
   {
    "duration": 34,
    "start_time": "2024-12-09T15:47:02.731Z"
   },
   {
    "duration": 9,
    "start_time": "2024-12-09T15:53:17.279Z"
   },
   {
    "duration": 14,
    "start_time": "2024-12-09T15:58:17.378Z"
   },
   {
    "duration": 4,
    "start_time": "2024-12-09T15:58:22.381Z"
   },
   {
    "duration": 20,
    "start_time": "2024-12-09T15:58:29.202Z"
   },
   {
    "duration": 12,
    "start_time": "2024-12-09T15:58:52.108Z"
   },
   {
    "duration": 4,
    "start_time": "2024-12-09T17:29:24.148Z"
   },
   {
    "duration": 4,
    "start_time": "2024-12-09T17:29:41.485Z"
   },
   {
    "duration": 4,
    "start_time": "2024-12-09T17:29:41.809Z"
   },
   {
    "duration": 3,
    "start_time": "2024-12-09T17:30:01.118Z"
   },
   {
    "duration": 4,
    "start_time": "2024-12-09T17:38:12.589Z"
   },
   {
    "duration": 3,
    "start_time": "2024-12-09T17:38:14.378Z"
   },
   {
    "duration": 803,
    "start_time": "2024-12-09T17:47:40.027Z"
   },
   {
    "duration": 714,
    "start_time": "2024-12-09T17:47:52.672Z"
   },
   {
    "duration": 5,
    "start_time": "2024-12-09T17:50:48.693Z"
   },
   {
    "duration": 6,
    "start_time": "2024-12-09T17:51:02.932Z"
   },
   {
    "duration": 5,
    "start_time": "2024-12-09T17:51:42.536Z"
   },
   {
    "duration": 6,
    "start_time": "2024-12-09T17:51:44.772Z"
   },
   {
    "duration": 7,
    "start_time": "2024-12-09T17:52:11.910Z"
   },
   {
    "duration": 4,
    "start_time": "2024-12-09T17:52:23.559Z"
   },
   {
    "duration": 5,
    "start_time": "2024-12-09T17:52:28.029Z"
   },
   {
    "duration": 5,
    "start_time": "2024-12-09T17:52:42.918Z"
   },
   {
    "duration": 7,
    "start_time": "2024-12-09T18:06:02.532Z"
   },
   {
    "duration": 36,
    "start_time": "2024-12-09T18:06:12.815Z"
   },
   {
    "duration": 39,
    "start_time": "2024-12-09T18:06:28.608Z"
   },
   {
    "duration": 7,
    "start_time": "2024-12-09T18:11:18.022Z"
   },
   {
    "duration": 7,
    "start_time": "2024-12-09T18:11:50.966Z"
   },
   {
    "duration": 8,
    "start_time": "2024-12-09T18:16:39.700Z"
   },
   {
    "duration": 23,
    "start_time": "2024-12-09T18:22:05.540Z"
   },
   {
    "duration": 5,
    "start_time": "2024-12-09T18:32:57.731Z"
   },
   {
    "duration": 2438,
    "start_time": "2024-12-09T18:38:02.552Z"
   },
   {
    "duration": 7,
    "start_time": "2024-12-09T18:51:42.230Z"
   },
   {
    "duration": 6,
    "start_time": "2024-12-09T18:54:33.074Z"
   },
   {
    "duration": 6,
    "start_time": "2024-12-09T18:59:18.423Z"
   },
   {
    "duration": 2,
    "start_time": "2024-12-09T19:05:20.092Z"
   },
   {
    "duration": 9,
    "start_time": "2024-12-09T19:05:20.720Z"
   },
   {
    "duration": 5,
    "start_time": "2024-12-09T19:05:22.291Z"
   },
   {
    "duration": 251,
    "start_time": "2024-12-09T19:05:23.023Z"
   },
   {
    "duration": 236,
    "start_time": "2024-12-09T19:06:24.875Z"
   },
   {
    "duration": 228,
    "start_time": "2024-12-09T19:07:47.080Z"
   },
   {
    "duration": 91,
    "start_time": "2024-12-09T19:09:29.583Z"
   },
   {
    "duration": 203,
    "start_time": "2024-12-09T19:11:42.297Z"
   },
   {
    "duration": 91,
    "start_time": "2024-12-09T19:12:04.874Z"
   },
   {
    "duration": 251,
    "start_time": "2024-12-09T19:25:56.446Z"
   },
   {
    "duration": 170,
    "start_time": "2024-12-09T19:25:57.156Z"
   },
   {
    "duration": 4,
    "start_time": "2024-12-09T19:26:05.560Z"
   },
   {
    "duration": 188,
    "start_time": "2024-12-09T19:32:18.862Z"
   },
   {
    "duration": 191,
    "start_time": "2024-12-09T19:32:48.495Z"
   },
   {
    "duration": 185,
    "start_time": "2024-12-09T19:33:27.172Z"
   },
   {
    "duration": 5,
    "start_time": "2024-12-09T19:35:26.747Z"
   },
   {
    "duration": 152,
    "start_time": "2024-12-09T19:36:36.612Z"
   },
   {
    "duration": 269,
    "start_time": "2024-12-09T19:44:35.852Z"
   },
   {
    "duration": 484,
    "start_time": "2024-12-09T19:47:48.406Z"
   },
   {
    "duration": 33,
    "start_time": "2024-12-09T19:50:22.057Z"
   },
   {
    "duration": 15,
    "start_time": "2024-12-09T20:04:14.145Z"
   }
  ],
  "colab": {
   "provenance": []
  },
  "kernelspec": {
   "display_name": "Python 3 (ipykernel)",
   "language": "python",
   "name": "python3"
  },
  "language_info": {
   "codemirror_mode": {
    "name": "ipython",
    "version": 3
   },
   "file_extension": ".py",
   "mimetype": "text/x-python",
   "name": "python",
   "nbconvert_exporter": "python",
   "pygments_lexer": "ipython3",
   "version": "3.9.19"
  },
  "toc": {
   "base_numbering": 1,
   "nav_menu": {},
   "number_sections": true,
   "sideBar": true,
   "skip_h1_title": true,
   "title_cell": "Table of Contents",
   "title_sidebar": "Contents",
   "toc_cell": false,
   "toc_position": {},
   "toc_section_display": true,
   "toc_window_display": false
  },
  "vscode": {
   "interpreter": {
    "hash": "01a7be9ec63e704a62cefc5fe7a4756944464ee731be31632bdf42a4cb4688cf"
   }
  }
 },
 "nbformat": 4,
 "nbformat_minor": 5
}
